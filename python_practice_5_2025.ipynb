{
 "nbformat": 4,
 "nbformat_minor": 0,
 "metadata": {
  "colab": {
   "provenance": []
  },
  "kernelspec": {
   "name": "python3",
   "display_name": "Python 3 (ipykernel)",
   "language": "python"
  },
  "language_info": {
   "name": "python"
  }
 },
 "cells": [
  {
   "cell_type": "markdown",
   "source": [
    "# I. OOP"
   ],
   "metadata": {
    "id": "5qV_sehzFCTp"
   }
  },
  {
   "cell_type": "markdown",
   "source": [
    "1. (6б). Створіть клас Building, додайте три атрибути, один з яких має значення за замовчуванням та два методи на свій розсуд."
   ],
   "metadata": {
    "id": "tx_U_hOALyfg"
   }
  },
  {
   "cell_type": "code",
   "source": [
    "class Building:\n",
    "    def __init__(self, height, material, floors=1):\n",
    "        self.height = height\n",
    "        self.material = material\n",
    "        self.floors = floors\n",
    "    \n",
    "    def describe(self):\n",
    "        return f\"Будівля з {self.floors} поверхами, висотою {self.height} м, зроблена з {self.material}.\"\n",
    "    \n",
    "    def add_floors(self, additional_floors):\n",
    "        self.floors += additional_floors\n",
    "        return f\"Додано {additional_floors} поверх(ів). Тепер будівля має {self.floors} поверх(ів).\"\n"
   ],
   "metadata": {
    "id": "-Vf895KaL88N",
    "ExecuteTime": {
     "end_time": "2025-03-19T09:21:37.621849Z",
     "start_time": "2025-03-19T09:21:37.595989Z"
    }
   },
   "outputs": [],
   "execution_count": 27
  },
  {
   "cell_type": "markdown",
   "source": [
    "2. (2б). Створіть два обʼєкти цього класу, де один з обʼєктів створюється із дефолтним значенням атрибуту. На одному обʼєкті отримайте значення його атрибуту, а на іншому викличте один з його методів."
   ],
   "metadata": {
    "id": "X_UlOMB0L93w"
   }
  },
  {
   "cell_type": "code",
   "source": [
    "building1 = Building(50, \"бетон\")\n",
    "building2 = Building(100, \"цегла\", 5)\n",
    "\n",
    "print(f\"Матеріал першої будівлі: {building1.material}\")\n",
    "print(building2.add_floors(2))\n"
   ],
   "metadata": {
    "id": "7gBu0ESOMCpG",
    "ExecuteTime": {
     "end_time": "2025-03-19T09:21:46.826789Z",
     "start_time": "2025-03-19T09:21:46.823288Z"
    }
   },
   "outputs": [
    {
     "name": "stdout",
     "output_type": "stream",
     "text": [
      "Матеріал першої будівлі: бетон\n",
      "Додано 2 поверх(ів). Тепер будівля має 7 поверх(ів).\n"
     ]
    }
   ],
   "execution_count": 28
  },
  {
   "cell_type": "markdown",
   "source": [
    "3. (5б). Створіть клас, де атрибути мають різні рівні доступу. Спробуйте отримати їхні значення та опишіть результати."
   ],
   "metadata": {
    "id": "HoqSCZt1MHn5"
   }
  },
  {
   "cell_type": "code",
   "source": [
    "class House:\n",
    "    def __init__(self, address, price, owner):\n",
    "        self.address = address\n",
    "        self._price = price\n",
    "        self.__owner = owner\n",
    "\n",
    "    def get_owner(self):\n",
    "        return self.__owner\n",
    "\n",
    "my_house = House(\"12 Khreshchatyk St\", 250000, \"Artem\")\n",
    "\n",
    "print(my_house.address)\n",
    "print(my_house._price)\n",
    "print(my_house.get_owner())"
   ],
   "metadata": {
    "id": "r9b3vJxBMSPV",
    "ExecuteTime": {
     "end_time": "2025-03-19T09:22:41.192949Z",
     "start_time": "2025-03-19T09:22:41.185060Z"
    }
   },
   "outputs": [
    {
     "name": "stdout",
     "output_type": "stream",
     "text": [
      "12 Khreshchatyk St\n",
      "250000\n",
      "Artem\n"
     ]
    }
   ],
   "execution_count": 29
  },
  {
   "cell_type": "markdown",
   "source": [
    "4. (7б). Як ви розумієте термін self? Для чого використовується метод __init __?"
   ],
   "metadata": {
    "id": "5op2m2vgMSkZ"
   }
  },
  {
   "cell_type": "markdown",
   "source": [
    "self — це посилання на поточний екземпляр класу. Воно використовується для доступу до атрибутів і методів об'єкта всередині класу.\n",
    "\n",
    "__init __ — це конструктор класу, який викликається автоматично при створенні об'єкта. Він використовується для ініціалізації атрибутів об'єкта."
   ],
   "metadata": {
    "id": "DyiPqNRvMasx"
   }
  },
  {
   "cell_type": "markdown",
   "source": [
    "5. (9б). Створіть клас 3D-фігура без атрибутів, з методом get_volume для отримання об'єму фігури, що повертає 0 та __add __, який приймає self та other в якості аргументів, а повертає суму об'ємів 3d-фігур self та other."
   ],
   "metadata": {
    "id": "-6X8EGfjMd2y"
   }
  },
  {
   "cell_type": "code",
   "source": [
    "class ThreeDFigure:\n",
    "    def get_volume(self):\n",
    "        return 0\n",
    "\n",
    "    def __add__(self, other):\n",
    "        if isinstance(other, ThreeDFigure):\n",
    "            return self.get_volume() + other.get_volume()\n",
    "        raise TypeError(\"Only objects of the ThreeDFigure class can be added\")\n",
    "        \n",
    "figure1 = ThreeDFigure()\n",
    "figure2 = ThreeDFigure()\n",
    "\n",
    "print(figure1.get_volume())\n",
    "print(figure1 + figure2) "
   ],
   "metadata": {
    "id": "4rvO_wYUMaEr",
    "ExecuteTime": {
     "end_time": "2025-03-19T09:22:58.705994Z",
     "start_time": "2025-03-19T09:22:58.699764Z"
    }
   },
   "outputs": [
    {
     "name": "stdout",
     "output_type": "stream",
     "text": [
      "0\n",
      "0\n"
     ]
    }
   ],
   "execution_count": 30
  },
  {
   "cell_type": "markdown",
   "source": [
    "6. (11б). Створіть 2 дочірніх класи від 3d-фігура: Циліндр та Куб, які мають атрибути, необхідні для розрахунку об'єму. Визначте метод get_volume в кожному з них так, щоби вони розраховували об'єм у залежності від формули для кожного типу фігури. Створіть обʼєкт класу Циліндр та обʼєкт класу Куб. Виконайте операцію суми за допомогою оператора + між ними, аби знайти сумарний об'єм."
   ],
   "metadata": {
    "id": "SFcKnnv5Mo_z"
   }
  },
  {
   "cell_type": "code",
   "source": [
    "import math\n",
    "\n",
    "class Cylinder(ThreeDFigure):\n",
    "    def __init__(self, radius, height):\n",
    "        self.radius = radius\n",
    "        self.height = height\n",
    "\n",
    "    def get_volume(self):\n",
    "        return math.pi * (self.radius ** 2) * self.height\n",
    "\n",
    "\n",
    "class Cube(ThreeDFigure):\n",
    "    def __init__(self, side):\n",
    "        self.side = side\n",
    "\n",
    "    def get_volume(self):\n",
    "        return self.side ** 3\n",
    "\n",
    "cylinder = Cylinder(radius=3, height=5)\n",
    "cube = Cube(side=4)\n",
    "\n",
    "print(f\"Об'єм циліндра: {cylinder.get_volume():.2f}\")\n",
    "print(f\"Об'єм куба: {cube.get_volume():.2f}\")  \n",
    "\n",
    "total_volume = cylinder + cube\n",
    "print(f\"Сумарний об'єм: {total_volume:.2f}\")"
   ],
   "metadata": {
    "id": "H3GVNr69Muf3",
    "ExecuteTime": {
     "end_time": "2025-03-19T09:23:32.776263Z",
     "start_time": "2025-03-19T09:23:32.765927Z"
    }
   },
   "outputs": [
    {
     "name": "stdout",
     "output_type": "stream",
     "text": [
      "Об'єм циліндра: 141.37\n",
      "Об'єм куба: 64.00\n",
      "Сумарний об'єм: 205.37\n"
     ]
    }
   ],
   "execution_count": 32
  },
  {
   "cell_type": "markdown",
   "source": [
    "7. (3б). Продемонструйте різницю між isinstance та issubclass."
   ],
   "metadata": {
    "id": "HCvR206YMvLK"
   }
  },
  {
   "cell_type": "code",
   "source": [
    "print(isinstance(cube, Cube))         # True (cube є об'єктом класу Cube)\n",
    "print(isinstance(cube, ThreeDFigure)) # True (Cube успадковує ThreeDFigure)\n",
    "print(isinstance(cube, Cylinder))     # False (cube не є екземпляром Cylinder)\n",
    "\n",
    "print(issubclass(Cube, ThreeDFigure))  # True (Cube є підкласом ThreeDFigure)\n",
    "print(issubclass(Cylinder, ThreeDFigure))  # True (Cylinder теж підклас ThreeDFigure)\n",
    "print(issubclass(Cube, Cylinder))      # False (Cube і Cylinder не пов'язані між собою напряму)"
   ],
   "metadata": {
    "id": "L_V1bBvDM0GN",
    "ExecuteTime": {
     "end_time": "2025-03-19T09:23:47.524312Z",
     "start_time": "2025-03-19T09:23:47.517708Z"
    }
   },
   "outputs": [
    {
     "name": "stdout",
     "output_type": "stream",
     "text": [
      "True\n",
      "True\n",
      "False\n",
      "True\n",
      "True\n",
      "False\n"
     ]
    }
   ],
   "execution_count": 33
  },
  {
   "cell_type": "markdown",
   "source": [
    "8. (13б). Створіть клас EWallet з приватними атрибутами balance та id. Реалізуйте методи поповнення та зняття коштів, забезпечивши належну інкапсуляцію. Підказка: використовуйте декоратори property та setter."
   ],
   "metadata": {
    "id": "jjsaBZ-iM0Qq"
   }
  },
  {
   "cell_type": "code",
   "source": [
    "import uuid\n",
    "\n",
    "class EWallet:\n",
    "    def __init__(self, initial_balance=0):\n",
    "        self.__balance = initial_balance\n",
    "        self.__id = uuid.uuid4()\n",
    "\n",
    "    @property\n",
    "    def balance(self):\n",
    "        return self.__balance\n",
    "\n",
    "    @property\n",
    "    def id(self):\n",
    "        return self.__id\n",
    "\n",
    "    def deposit(self, amount):\n",
    "        if amount > 0:\n",
    "            self.__balance += amount\n",
    "            print(f\"Гаманець {self.__id}: Поповнено на {amount}. Новий баланс: {self.__balance}\")\n",
    "        else:\n",
    "            print(\"Сума поповнення має бути більше 0.\")\n",
    "\n",
    "    def withdraw(self, amount):\n",
    "        if amount > 0:\n",
    "            if amount <= self.__balance:\n",
    "                self.__balance -= amount\n",
    "                print(f\"Гаманець {self.__id}: Знято {amount}. Новий баланс: {self.__balance}\")\n",
    "            else:\n",
    "                print(\"Недостатньо коштів для зняття.\")\n",
    "        else:\n",
    "            print(\"Сума зняття має бути більше 0.\")\n",
    "\n",
    "wallet = EWallet(100)\n",
    "print(f\"Поточний баланс: {wallet.balance}\")\n",
    "wallet.deposit(50)\n",
    "wallet.withdraw(30)"
   ],
   "metadata": {
    "id": "xCvZ7lh8M7YA",
    "ExecuteTime": {
     "end_time": "2025-03-19T09:34:59.408974Z",
     "start_time": "2025-03-19T09:34:59.379586Z"
    }
   },
   "outputs": [
    {
     "name": "stdout",
     "output_type": "stream",
     "text": [
      "Поточний баланс: 100\n",
      "Гаманець 9486f280-3565-4c57-96c6-16588cfa0e9a: Поповнено на 50. Новий баланс: 150\n",
      "Гаманець 9486f280-3565-4c57-96c6-16588cfa0e9a: Знято 30. Новий баланс: 120\n"
     ]
    }
   ],
   "execution_count": 34
  },
  {
   "cell_type": "markdown",
   "source": [
    "9. (11б). Створіть клас ShoppingCart, який містить список об'єктів типу Item. Реалізуйте методи для додавання айтемів, їх видалення та відображення списку айтемів."
   ],
   "metadata": {
    "id": "tIzL2SJTM8ft"
   }
  },
  {
   "cell_type": "code",
   "source": [
    "class Item:\n",
    "    def __init__(self, name, price):\n",
    "        self.name = name\n",
    "        self.price = price\n",
    "\n",
    "    def __str__(self):\n",
    "        return f\"{self.name} - ${self.price:.2f}\"\n",
    "\n",
    "\n",
    "class ShoppingCart:\n",
    "    def __init__(self):\n",
    "        self.items = []\n",
    "\n",
    "    def add_item(self, item):\n",
    "        if isinstance(item, Item):\n",
    "            self.items.append(item)\n",
    "            print(f\"Товар '{item.name}' додано до кошика.\")\n",
    "        else:\n",
    "            print(\"Можна додавати тільки об'єкти класу Item.\")\n",
    "\n",
    "    def remove_item(self, item_name):\n",
    "        for item in self.items:\n",
    "            if item.name == item_name:\n",
    "                self.items.remove(item)\n",
    "                print(f\"Товар '{item_name}' видалено з кошика.\")\n",
    "                return\n",
    "        print(f\"Товар '{item_name}' не знайдено у кошику.\")\n",
    "\n",
    "    def show_items(self):\n",
    "        if not self.items:\n",
    "            print(\"Кошик порожній.\")\n",
    "        else:\n",
    "            print(\"Ваш кошик:\")\n",
    "            for item in self.items:\n",
    "                print(f\" - {item}\")\n",
    "\n",
    "item1 = Item(\"Ноутбук\", 1200.99)\n",
    "item2 = Item(\"Навушники\", 199.99)\n",
    "\n",
    "cart = ShoppingCart()\n",
    "cart.add_item(item1)\n",
    "cart.add_item(item2)\n",
    "cart.show_items()\n",
    "cart.remove_item(\"Навушники\")\n",
    "cart.show_items()"
   ],
   "metadata": {
    "id": "HWxfJKLtNAUZ",
    "ExecuteTime": {
     "end_time": "2025-03-19T09:35:48.985096Z",
     "start_time": "2025-03-19T09:35:48.973085Z"
    }
   },
   "outputs": [
    {
     "name": "stdout",
     "output_type": "stream",
     "text": [
      "Товар 'Ноутбук' додано до кошика.\n",
      "Товар 'Навушники' додано до кошика.\n",
      "Ваш кошик:\n",
      " - Ноутбук - $1200.99\n",
      " - Навушники - $199.99\n",
      "Товар 'Навушники' видалено з кошика.\n",
      "Ваш кошик:\n",
      " - Ноутбук - $1200.99\n"
     ]
    }
   ],
   "execution_count": 35
  },
  {
   "cell_type": "markdown",
   "source": [
    "10. (13б). Створіть клас Vehicle з атрибутами brand (manufacturer) та production_age. Створіть ще один клас Engine з такими атрибутами, як type (ex. petrol) та size (volume, litres). Створіть клас Car, який успадковує обидва класи Vehicle та Engine. Продемонструйте використання множинної спадковості, створивши обʼєкт класу Car та отримавши mro для цього класу."
   ],
   "metadata": {
    "id": "lmV8pAwwNIqu"
   }
  },
  {
   "cell_type": "code",
   "source": [
    "class Vehicle:\n",
    "    def __init__(self, brand, production_age):\n",
    "        self.brand = brand\n",
    "        self.production_age = production_age\n",
    "\n",
    "    def get_vehicle_info(self):\n",
    "        return f\"Бренд: {self.brand}, Вік виробництва: {self.production_age} років\"\n",
    "\n",
    "\n",
    "class Engine:\n",
    "    def __init__(self, engine_type, size):\n",
    "        self.engine_type = engine_type\n",
    "        self.size = size\n",
    "\n",
    "    def get_engine_info(self):\n",
    "        return f\"Тип двигуна: {self.engine_type}, Об'єм: {self.size} л\"\n",
    "\n",
    "\n",
    "class Car(Vehicle, Engine):\n",
    "    def __init__(self, brand, production_age, engine_type, size, model):\n",
    "        Vehicle.__init__(self, brand, production_age)\n",
    "        Engine.__init__(self, engine_type, size)\n",
    "        self.model = model\n",
    "\n",
    "    def get_car_info(self):\n",
    "        return (f\"{self.get_vehicle_info()}, Модель: {self.model}, \"\n",
    "                f\"{self.get_engine_info()}\")\n",
    "\n",
    "my_car = Car(brand=\"Toyota\", production_age=5, engine_type=\"Petrol\", size=1.8, model=\"Auris\")\n",
    "print(my_car.get_car_info())\n",
    "print(Car.mro())"
   ],
   "metadata": {
    "id": "R49grKlWNPeN",
    "ExecuteTime": {
     "end_time": "2025-03-19T09:35:55.030015Z",
     "start_time": "2025-03-19T09:35:55.020353Z"
    }
   },
   "outputs": [
    {
     "name": "stdout",
     "output_type": "stream",
     "text": [
      "Бренд: Toyota, Вік виробництва: 5 років, Модель: Auris, Тип двигуна: Petrol, Об'єм: 1.8 л\n",
      "[<class '__main__.Car'>, <class '__main__.Vehicle'>, <class '__main__.Engine'>, <class 'object'>]\n"
     ]
    }
   ],
   "execution_count": 36
  },
  {
   "cell_type": "markdown",
   "source": [
    "# II. Iterator"
   ],
   "metadata": {
    "id": "dIJyUiNBFG8G"
   }
  },
  {
   "cell_type": "markdown",
   "source": [
    "11. (4б). Визначте рядок(str) з 4ма різними за значенням символами. Створіть ітератор на основі цього рядка. Викличте 5 разів функцію next на ітераторі, 4ри перших з них огорніть у ф-цію print()."
   ],
   "metadata": {
    "id": "13vsm0NyKIzL"
   }
  },
  {
   "cell_type": "code",
   "source": [
    "my_string = \"ABCD\"\n",
    "\n",
    "string_iterator = iter(my_string)\n",
    "\n",
    "print(next(string_iterator)) \n",
    "print(next(string_iterator)) \n",
    "print(next(string_iterator)) \n",
    "print(next(string_iterator))  \n",
    "next(string_iterator) "
   ],
   "metadata": {
    "id": "81ntabAkKuz-",
    "ExecuteTime": {
     "end_time": "2025-03-19T09:36:00.543516Z",
     "start_time": "2025-03-19T09:36:00.494718Z"
    }
   },
   "outputs": [
    {
     "name": "stdout",
     "output_type": "stream",
     "text": [
      "A\n",
      "B\n",
      "C\n",
      "D\n"
     ]
    },
    {
     "ename": "StopIteration",
     "evalue": "",
     "output_type": "error",
     "traceback": [
      "\u001B[0;31m---------------------------------------------------------------------------\u001B[0m",
      "\u001B[0;31mStopIteration\u001B[0m                             Traceback (most recent call last)",
      "Cell \u001B[0;32mIn[37], line 9\u001B[0m\n\u001B[1;32m      7\u001B[0m \u001B[38;5;28mprint\u001B[39m(\u001B[38;5;28mnext\u001B[39m(string_iterator)) \n\u001B[1;32m      8\u001B[0m \u001B[38;5;28mprint\u001B[39m(\u001B[38;5;28mnext\u001B[39m(string_iterator))  \n\u001B[0;32m----> 9\u001B[0m \u001B[38;5;28;43mnext\u001B[39;49m\u001B[43m(\u001B[49m\u001B[43mstring_iterator\u001B[49m\u001B[43m)\u001B[49m \n",
      "\u001B[0;31mStopIteration\u001B[0m: "
     ]
    }
   ],
   "execution_count": 37
  },
  {
   "cell_type": "markdown",
   "source": [
    "А що якщо викликати цю ж функцію на рядку?"
   ],
   "metadata": {
    "id": "aekWHGXOLRsO"
   }
  },
  {
   "cell_type": "code",
   "source": "next(my_string) # Виникне помилка TypeError",
   "metadata": {
    "id": "mxATGsErLV1i",
    "ExecuteTime": {
     "end_time": "2025-03-19T09:37:00.960793Z",
     "start_time": "2025-03-19T09:37:00.944720Z"
    }
   },
   "outputs": [
    {
     "ename": "TypeError",
     "evalue": "'str' object is not an iterator",
     "output_type": "error",
     "traceback": [
      "\u001B[0;31m---------------------------------------------------------------------------\u001B[0m",
      "\u001B[0;31mTypeError\u001B[0m                                 Traceback (most recent call last)",
      "Cell \u001B[0;32mIn[39], line 1\u001B[0m\n\u001B[0;32m----> 1\u001B[0m \u001B[38;5;28;43mnext\u001B[39;49m\u001B[43m(\u001B[49m\u001B[43mmy_string\u001B[49m\u001B[43m)\u001B[49m \u001B[38;5;66;03m# Виникне помилка TypeError\u001B[39;00m\n",
      "\u001B[0;31mTypeError\u001B[0m: 'str' object is not an iterator"
     ]
    }
   ],
   "execution_count": 39
  },
  {
   "cell_type": "markdown",
   "source": [
    " 12. (5б). Опишіть своїми словами в одному реченні, як ви розумієте різницю між ітерабельними обʼєктами та ітераторами (можна на прикладі)."
   ],
   "metadata": {
    "id": "XwtMEopwJ4pH"
   }
  },
  {
   "cell_type": "markdown",
   "source": "Ітерабельний об'єкт – це об'єкт, який можна перебирати в циклі (наприклад, рядок, список, кортеж), але він сам не зберігає свій поточний стан, а ітератор – це об'єкт, який пам’ятає свою позицію під час ітерації та має метод next(), що повертає наступний елемент (наприклад, iter([1, 2, 3]) створює ітератор зі списку).",
   "metadata": {
    "id": "-sHrODc3KFn8"
   }
  },
  {
   "cell_type": "markdown",
   "source": [
    "13. (11б). Створіть клас, що має визначений Iterator Protocol та при кожному виклику next повертає назву дня тижня, поки вони не вичерпаються. Зверніть увагу, що порядок має значення."
   ],
   "metadata": {
    "id": "E9qJWmNbK8Gl"
   }
  },
  {
   "cell_type": "code",
   "source": [
    "class WeekDaysIterator:\n",
    "    def __init__(self):\n",
    "        self.days = [\"Monday\", \"Tuesday\", \"Wednesday\", \"Thursday\", \"Friday\", \"Saturday\", \"Sunday\"]\n",
    "        self.index = 0\n",
    "\n",
    "    def __iter__(self):\n",
    "        return self\n",
    "\n",
    "    def __next__(self):\n",
    "        if self.index < len(self.days):\n",
    "            day = self.days[self.index]\n",
    "            self.index += 1\n",
    "            return day\n",
    "        else:\n",
    "            raise StopIteration\n",
    "\n",
    "week_iterator = WeekDaysIterator()\n",
    "\n",
    "print(next(week_iterator))\n",
    "print(next(week_iterator)) \n",
    "print(next(week_iterator))  \n",
    "print(next(week_iterator))  \n",
    "print(next(week_iterator)) \n",
    "print(next(week_iterator))  \n",
    "print(next(week_iterator))  \n",
    "\n",
    "try:\n",
    "    print(next(week_iterator))\n",
    "except StopIteration:\n",
    "    print(\"The iterator has ended\")"
   ],
   "metadata": {
    "id": "cqx-g_RsLo6I",
    "ExecuteTime": {
     "end_time": "2025-03-19T09:37:06.297457Z",
     "start_time": "2025-03-19T09:37:06.290007Z"
    }
   },
   "outputs": [
    {
     "name": "stdout",
     "output_type": "stream",
     "text": [
      "Monday\n",
      "Tuesday\n",
      "Wednesday\n",
      "Thursday\n",
      "Friday\n",
      "Saturday\n",
      "Sunday\n",
      "The iterator has ended\n"
     ]
    }
   ],
   "execution_count": 40
  },
  {
   "cell_type": "markdown",
   "source": [
    "# Вітаю! Ви велика(ий) молодець, що впоралась(вся). Похваліть себе та побалуйте чимось приємним. Я Вами пишаюся."
   ],
   "metadata": {
    "id": "Z3E3S_s1Fv7-"
   }
  }
 ]
}
