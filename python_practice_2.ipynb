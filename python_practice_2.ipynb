{
 "nbformat": 4,
 "nbformat_minor": 0,
 "metadata": {
  "colab": {
   "provenance": []
  },
  "kernelspec": {
   "name": "python3",
   "display_name": "Python 3 (ipykernel)",
   "language": "python"
  },
  "language_info": {
   "name": "python"
  }
 },
 "cells": [
  {
   "cell_type": "markdown",
   "source": [
    "# I. Змінні та памʼять."
   ],
   "metadata": {
    "id": "p9wwt0LZzNvn"
   }
  },
  {
   "cell_type": "markdown",
   "source": [
    "1. Створити змінні, що посилаються на два цілих числа, що однакові за значенням, де значення належить проміжку від -5 до 256. Перевірте, чи будуть ці змінні рівні тільки за значенням або ж ще будуть посилатися на один і той самий обʼєкт в памʼяті? Наведіть код та дайте текстову відповідь нижче."
   ],
   "metadata": {
    "id": "HTJrrm95xSV9"
   }
  },
  {
   "cell_type": "code",
   "metadata": {
    "id": "TATni2vzayjG",
    "ExecuteTime": {
     "end_time": "2025-02-25T20:46:49.262115Z",
     "start_time": "2025-02-25T20:46:49.252637Z"
    }
   },
   "source": [
    "a = 100\n",
    "b = 100\n",
    "print(a == b)\n",
    "print(a is b)"
   ],
   "outputs": [
    {
     "name": "stdout",
     "output_type": "stream",
     "text": [
      "True\n",
      "True\n"
     ]
    }
   ],
   "execution_count": 31
  },
  {
   "cell_type": "markdown",
   "source": [
    "Змінні a та b мають однакове значення 100, тому a == b повертає True.\n",
    "\n",
    "Python кешує ці числа в діапазоні від -5 до 256, тому обидві змінні будуть вказувати на один і той самий об'єкт у пам'яті.\n",
    "\n",
    "Тому a is b також повертає True."
   ],
   "metadata": {
    "id": "zfRG_o3WbRdg"
   }
  },
  {
   "cell_type": "markdown",
   "source": [
    "2. За допомогою якої функції можна перевірити належність змінної до вказаного типу даних (напр. чи змінна True посилається на значення булевого та цілочисленого типу)?"
   ],
   "metadata": {
    "id": "ISORzt6M3vAt"
   }
  },
  {
   "cell_type": "code",
   "source": [
    "x = True\n",
    "print(isinstance(x, bool))\n",
    "print(isinstance(x, int))"
   ],
   "metadata": {
    "id": "9vL9CFaMbfyo",
    "ExecuteTime": {
     "end_time": "2025-02-25T20:46:52.366095Z",
     "start_time": "2025-02-25T20:46:52.362943Z"
    }
   },
   "outputs": [
    {
     "name": "stdout",
     "output_type": "stream",
     "text": [
      "True\n",
      "True\n"
     ]
    }
   ],
   "execution_count": 32
  },
  {
   "cell_type": "markdown",
   "source": [
    "# II. Цілі числа та числа з рухомою комою"
   ],
   "metadata": {
    "id": "tRxugKAxwYLw"
   }
  },
  {
   "cell_type": "markdown",
   "source": [
    "3. Створити дві змінні, що посилаються на будь-які ціле число та число з рухомою комою та продемонструвати такі арифметичні операції: додавання, віднімання, ділення, множення, ділення без залишку, ділення по модулю, приведення до ступеню. Всі результати операцій вивести на екран."
   ],
   "metadata": {
    "id": "NLHkgd5Gybc8"
   }
  },
  {
   "cell_type": "code",
   "source": [
    "a = 8\n",
    "b = 1.5\n",
    "\n",
    "print(\"Додавання:\", a + b)\n",
    "print(\"Віднімання:\", a - b)\n",
    "print(\"Множення:\", a * b)\n",
    "print(\"Ділення:\", a / b)\n",
    "print(\"Ділення без залишку:\", a // b)\n",
    "print(\"Ділення по модулю:\", a % b)\n",
    "print(\"Піднесення до ступеню:\", a ** b)"
   ],
   "metadata": {
    "id": "nb8u_3pjb2cA",
    "ExecuteTime": {
     "end_time": "2025-02-25T20:46:54.539231Z",
     "start_time": "2025-02-25T20:46:54.530117Z"
    }
   },
   "outputs": [
    {
     "name": "stdout",
     "output_type": "stream",
     "text": [
      "Додавання: 9.5\n",
      "Віднімання: 6.5\n",
      "Множення: 12.0\n",
      "Ділення: 5.333333333333333\n",
      "Ділення без залишку: 5.0\n",
      "Ділення по модулю: 0.5\n",
      "Піднесення до ступеню: 22.627416997969522\n"
     ]
    }
   ],
   "execution_count": 33
  },
  {
   "cell_type": "markdown",
   "source": [
    "4. Використовуючи змінні з вправи 3, продемонструйте механізм явного перетворення типів, де числа з рухомою комою перетворюються на цілі числа. Також визначте змінну, що посилається на значення булевого типу і спробуйте явно привести її до цілого числа."
   ],
   "metadata": {
    "id": "1kBClKgPzZnC"
   }
  },
  {
   "cell_type": "code",
   "source": [
    "a = 8\n",
    "b = 1.5\n",
    "c = True\n",
    "\n",
    "b_to_int = int(b)\n",
    "print(\"Перетворення float у int:\", b_to_int)\n",
    "\n",
    "c_to_int = int(c)\n",
    "print(\"Перетворення bool у int:\", c_to_int)"
   ],
   "metadata": {
    "id": "TbqJbkeUcKsD",
    "ExecuteTime": {
     "end_time": "2025-02-25T20:46:58.832068Z",
     "start_time": "2025-02-25T20:46:58.828186Z"
    }
   },
   "outputs": [
    {
     "name": "stdout",
     "output_type": "stream",
     "text": [
      "Перетворення float у int: 1\n",
      "Перетворення bool у int: 1\n"
     ]
    }
   ],
   "execution_count": 34
  },
  {
   "cell_type": "markdown",
   "source": [
    "# IІІ. Рядки (String)."
   ],
   "metadata": {
    "id": "EVJ7AflwxrZi"
   }
  },
  {
   "cell_type": "markdown",
   "source": [
    "5. Створити пустий рядок двома різними способами."
   ],
   "metadata": {
    "id": "_s5ECzz9zE61"
   }
  },
  {
   "cell_type": "code",
   "source": [
    "empty_string_1 = \"\"\n",
    "empty_string_2 = str()"
   ],
   "metadata": {
    "id": "fkZJHu9Scvc-",
    "ExecuteTime": {
     "end_time": "2025-02-25T20:47:02.792683Z",
     "start_time": "2025-02-25T20:47:02.789153Z"
    }
   },
   "outputs": [],
   "execution_count": 35
  },
  {
   "cell_type": "markdown",
   "source": [
    "6. Створити рядок з апострофом. Зробити його сирим. Вивести обидва рядка на екран."
   ],
   "metadata": {
    "id": "4Bdn9J3MzLf_"
   }
  },
  {
   "cell_type": "code",
   "source": [
    "string_apostrophe = 'I\\'m learning Python'\n",
    "\n",
    "raw_string_apostrophe = r'{}'.format(string_apostrophe)\n",
    "\n",
    "print(string_apostrophe)\n",
    "print(raw_string_apostrophe)"
   ],
   "metadata": {
    "id": "ivji_hsmc0GH",
    "ExecuteTime": {
     "end_time": "2025-02-25T20:47:08.414459Z",
     "start_time": "2025-02-25T20:47:08.409667Z"
    }
   },
   "outputs": [
    {
     "name": "stdout",
     "output_type": "stream",
     "text": [
      "I'm learning Python\n",
      "I'm learning Python\n"
     ]
    }
   ],
   "execution_count": 36
  },
  {
   "cell_type": "markdown",
   "source": [
    "7. Створити змінну, що буде посилатися на Ваше прізвище латинкою. Створити форматований рядок, який буде мати вигляд \"My surname is ______\", де на місці нижніх підкреслень буде Ваше прізвище зі змінної."
   ],
   "metadata": {
    "id": "bg_d8wM4z8dS"
   }
  },
  {
   "cell_type": "code",
   "source": [
    "surname = \"Levchenko\"\n",
    "formatted_string = f\"My surname is {surname}\"\n",
    "print(formatted_string)"
   ],
   "metadata": {
    "id": "kuxFgpWndACq",
    "ExecuteTime": {
     "end_time": "2025-02-25T20:47:58.178032Z",
     "start_time": "2025-02-25T20:47:58.170909Z"
    }
   },
   "outputs": [
    {
     "name": "stdout",
     "output_type": "stream",
     "text": [
      "My surname is Levchenko\n"
     ]
    }
   ],
   "execution_count": 37
  },
  {
   "cell_type": "markdown",
   "source": [
    "8. Маючи рядок \"My dog is crazy.\" перетворити його на список [\"my\", \"dog\", \"is\", \"crazy\"]"
   ],
   "metadata": {
    "id": "1Nc6RqvQ0hxU"
   }
  },
  {
   "cell_type": "code",
   "source": [
    "sentence = \"My dog is crazy.\"\n",
    "words_list = sentence.lower().replace('.', '').split()\n",
    "print(words_list)"
   ],
   "metadata": {
    "id": "w1Ya4RqedUhw",
    "ExecuteTime": {
     "end_time": "2025-02-25T20:48:00.942451Z",
     "start_time": "2025-02-25T20:48:00.939140Z"
    }
   },
   "outputs": [
    {
     "name": "stdout",
     "output_type": "stream",
     "text": [
      "['my', 'dog', 'is', 'crazy']\n"
     ]
    }
   ],
   "execution_count": 38
  },
  {
   "cell_type": "markdown",
   "source": [
    "# IV. Робота зі списками."
   ],
   "metadata": {
    "id": "GYVqN9uP1D4n"
   }
  },
  {
   "cell_type": "markdown",
   "source": [
    "9. Створити список двома різними за синтаксисом способами. За допомогою вбудованої функції обчисліть довжину одного з них."
   ],
   "metadata": {
    "id": "7-DeDunw2sO-"
   }
  },
  {
   "cell_type": "code",
   "source": [
    "list_1 = [1, 2, 3, 4, 5]\n",
    "list_2 = list((1, 2, 3, 4, 5))\n",
    "length_of_list_1 = len(list_1)\n",
    "print(list_1)\n",
    "print(list_2)\n",
    "print(\"Довжина першого списку:\", length_of_list_1)"
   ],
   "metadata": {
    "id": "zxg06Uuxdyoh",
    "ExecuteTime": {
     "end_time": "2025-02-25T20:48:03.017009Z",
     "start_time": "2025-02-25T20:48:03.011002Z"
    }
   },
   "outputs": [
    {
     "name": "stdout",
     "output_type": "stream",
     "text": [
      "[1, 2, 3, 4, 5]\n",
      "[1, 2, 3, 4, 5]\n",
      "Довжина першого списку: 5\n"
     ]
    }
   ],
   "execution_count": 39
  },
  {
   "cell_type": "markdown",
   "source": [
    "10. Створіть два списка та за допомогою спеціального методу додайте другий з них в якості останнього елемента першого."
   ],
   "metadata": {
    "id": "8vmGUTjL22gI"
   }
  },
  {
   "cell_type": "code",
   "source": [
    "list_1 = [1, 2, 3]\n",
    "list_2 = [4, 5, 6]\n",
    "list_1.append(list_2)\n",
    "print(list_1)"
   ],
   "metadata": {
    "id": "uHtjWYw7d7hm",
    "ExecuteTime": {
     "end_time": "2025-02-25T20:48:08.903514Z",
     "start_time": "2025-02-25T20:48:08.897424Z"
    }
   },
   "outputs": [
    {
     "name": "stdout",
     "output_type": "stream",
     "text": [
      "[1, 2, 3, [4, 5, 6]]\n"
     ]
    }
   ],
   "execution_count": 40
  },
  {
   "cell_type": "markdown",
   "source": [
    "11. Створіть список, де елементами цього списку також є списки. Отримай перший елемент з останнього рядка та виведи значення на екран."
   ],
   "metadata": {
    "id": "JC3BkD-67_--"
   }
  },
  {
   "cell_type": "code",
   "source": [
    "main_list = [[1, 2, 3], [4, 5, 6], [7, 8, 9]]\n",
    "first_element = main_list[-1][0]\n",
    "print(first_element)"
   ],
   "metadata": {
    "id": "Kz2jZHsGeLlz",
    "ExecuteTime": {
     "end_time": "2025-02-25T20:48:10.611526Z",
     "start_time": "2025-02-25T20:48:10.607688Z"
    }
   },
   "outputs": [
    {
     "name": "stdout",
     "output_type": "stream",
     "text": [
      "7\n"
     ]
    }
   ],
   "execution_count": 41
  },
  {
   "cell_type": "markdown",
   "source": [
    "12. Створіть список з десяти елементів різного типу. Отримайте всі елементи, окрім двох перших та двох останніх та збережіть їх в новій змінній."
   ],
   "metadata": {
    "id": "JA47PKTv8zFK"
   }
  },
  {
   "cell_type": "code",
   "source": [
    "mixed_list = [1, 2.5, \"Hello\", True, [1, 2], {\"key\": \"value\"}, None, complex(1, 2), (3, 4), bytearray(b\"abc\")]\n",
    "new_list = mixed_list[2:-2]\n",
    "print(new_list)"
   ],
   "metadata": {
    "id": "_rHdUR-ueP4-",
    "ExecuteTime": {
     "end_time": "2025-02-25T20:48:12.205736Z",
     "start_time": "2025-02-25T20:48:12.200371Z"
    }
   },
   "outputs": [
    {
     "name": "stdout",
     "output_type": "stream",
     "text": [
      "['Hello', True, [1, 2], {'key': 'value'}, None, (1+2j)]\n"
     ]
    }
   ],
   "execution_count": 42
  },
  {
   "cell_type": "markdown",
   "source": [
    "# V. Робота з кортежами."
   ],
   "metadata": {
    "id": "pCjR1dJb1Qbi"
   }
  },
  {
   "cell_type": "markdown",
   "source": [
    "14. Створити кортеж з один елементом."
   ],
   "metadata": {
    "id": "fAZCxAX06R_k"
   }
  },
  {
   "cell_type": "code",
   "source": [
    "single_element_tuple = (5,)\n",
    "print(single_element_tuple)"
   ],
   "metadata": {
    "id": "H7d82WkQev3e",
    "ExecuteTime": {
     "end_time": "2025-02-25T20:48:14.373746Z",
     "start_time": "2025-02-25T20:48:14.369616Z"
    }
   },
   "outputs": [
    {
     "name": "stdout",
     "output_type": "stream",
     "text": [
      "(5,)\n"
     ]
    }
   ],
   "execution_count": 43
  },
  {
   "cell_type": "markdown",
   "source": [
    "15. Порівняйте список та кортеж. Назвіть схожості та відмінності, випадки використання."
   ],
   "metadata": {
    "id": "8LCtYcmI6w1M"
   }
  },
  {
   "cell_type": "markdown",
   "source": [
    "Схожості:\n",
    "1. Індексування та зрізи: І список, і кортеж підтримують індексування та зрізання, тому можна отримувати доступ до елементів за індексом і створювати зрізи (підсписки або підкортежі).\n",
    "2. Зберігання різних типів даних: І список, і кортеж можуть зберігати елементи різних типів: цілі числа, рядки, інші списки або кортежі.\n",
    "3. Ітерація: І список, і кортеж підтримують ітерацію (можна використовувати цикл для перебору елементів).\n",
    "\n",
    "Відмінності\n",
    "1. Мутабельність:\n",
    "Список є змінюваним (можна змінювати його вміст після створення).\n",
    "Кортеж є незмінним (не можливо змінити його вміст після створення, не можна додавати або видаляти елементи).\n",
    "2. Продуктивність:\n",
    "Кортеж зазвичай швидший для доступу до елементів, оскільки він є незмінним. Це дозволяє оптимізувати використання пам'яті.\n",
    "Список займає менше пам'яті та часу порівняно з кортежем, оскільки підтримує операції над елементами.\n",
    "3. Використання:\n",
    "Список використовується, коли потрібно змінювати вміст, додавати або видаляти елементи під час виконання програми. Кортеж використовується, коли потрібно зберігати дані, які не повинні змінюватися, або коли важлива швидкість доступу до них. Кортежі також використовуються як ключі у словниках, оскільки вони є незмінними."
   ],
   "metadata": {
    "id": "fUsN1Hnue0C6"
   }
  },
  {
   "cell_type": "markdown",
   "source": [
    "16. Створіть кортеж з 11ти елементів чисел з рухомою комою та отримайте кожен парний за індексом елемент в зворотньому порядку. Наприклад, маючи (1.2, 2.3, 3.3, 4.3, 5.3, 6.3, 7.3, 8.3, 9.3, 0.3), отримати (0.3, 8.3, 6.3, 4.3, 2.3). Результат збережіть в нову змінну та виведіть на екран."
   ],
   "metadata": {
    "id": "m0xrwFijAmDD"
   }
  },
  {
   "cell_type": "code",
   "source": [
    "float_tuple = (1.1, 2.2, 3.3, 4.4, 5.5, 6.6, 7.7, 8.8, 9.9, 0.1, 11.11)\n",
    "reversed_tuple = float_tuple[-1::-2]\n",
    "print(reversed_tuple)"
   ],
   "metadata": {
    "id": "p-5DAH6XfAGA",
    "ExecuteTime": {
     "end_time": "2025-02-25T20:48:25.690742Z",
     "start_time": "2025-02-25T20:48:25.686527Z"
    }
   },
   "outputs": [
    {
     "name": "stdout",
     "output_type": "stream",
     "text": [
      "(11.11, 9.9, 7.7, 5.5, 3.3, 1.1)\n"
     ]
    }
   ],
   "execution_count": 44
  },
  {
   "cell_type": "markdown",
   "source": [
    "# VI. Множини (Set)."
   ],
   "metadata": {
    "id": "rW_I9dt3x6cW"
   }
  },
  {
   "cell_type": "markdown",
   "source": [
    "17. Створити множину без елементів. Після цого за допомогою методу додайте кілька різних елементів до множини. Чи множини є змінним типом даних?"
   ],
   "metadata": {
    "id": "zNjRLHLw1Bgg"
   }
  },
  {
   "cell_type": "code",
   "source": [
    "my_set = set()\n",
    "my_set.add(10)\n",
    "my_set.add(3.14)\n",
    "my_set.add(\"world\")\n",
    "print(my_set)"
   ],
   "metadata": {
    "id": "KOv7zc2Kfo4N",
    "ExecuteTime": {
     "end_time": "2025-02-25T20:48:30.026543Z",
     "start_time": "2025-02-25T20:48:30.022232Z"
    }
   },
   "outputs": [
    {
     "name": "stdout",
     "output_type": "stream",
     "text": [
      "{10, 3.14, 'world'}\n"
     ]
    }
   ],
   "execution_count": 45
  },
  {
   "cell_type": "markdown",
   "source": "Так, множини є змінюваними. Це означає, що можна додавати або видаляти елементи після створення множини. Але множина може містити лише незмінні об'єкти (наприклад, числа, рядки, кортежі).",
   "metadata": {
    "id": "vxS6dVYiftZQ"
   }
  },
  {
   "cell_type": "markdown",
   "source": [
    "18. Створити множину, маючи список my_list = [1, 1, 2, 67, 67, 8, 9]. Пояснити, чому \"зникли\" деякі елементи."
   ],
   "metadata": {
    "id": "gHpT0Zw_1HEF"
   }
  },
  {
   "cell_type": "code",
   "source": [
    "my_list = [1, 1, 2, 67, 67, 8, 9]\n",
    "my_set = set(my_list)\n",
    "print(my_set)"
   ],
   "metadata": {
    "id": "qCN4uvJ_fxmu",
    "ExecuteTime": {
     "end_time": "2025-02-25T20:48:34.571579Z",
     "start_time": "2025-02-25T20:48:34.566238Z"
    }
   },
   "outputs": [
    {
     "name": "stdout",
     "output_type": "stream",
     "text": [
      "{1, 2, 67, 8, 9}\n"
     ]
    }
   ],
   "execution_count": 46
  },
  {
   "cell_type": "markdown",
   "source": "Множина в Python не допускає дублікатів. Коли ми створюємо множину зі списку my_list, всі дублікати (1, 67) видаляються, тому що множина зберігає кожен елемент тільки в одному екземплярі.",
   "metadata": {
    "id": "tFNc1e20fyny"
   }
  },
  {
   "cell_type": "markdown",
   "source": [
    "19. Створіть дві множини. Продемонстуйте над ними операції: обʼєднання, різниці, пересічі та симетричної різниці. Використовуйте методи, що не змінюють множини, а створюють нові."
   ],
   "metadata": {
    "id": "SRMkGizS1UwY"
   }
  },
  {
   "cell_type": "code",
   "source": [
    "set1 = {1, 2, 3, 4, 5}\n",
    "set2 = {4, 5, 6, 7, 8}\n",
    "union_set = set1.union(set2)\n",
    "print(\"Об'єднання:\", union_set)\n",
    "difference_set = set1.difference(set2)\n",
    "print(\"Різниця (set1 - set2):\", difference_set)\n",
    "intersection_set = set1.intersection(set2)\n",
    "print(\"Перетин:\", intersection_set)\n",
    "symmetric_difference_set = set1.symmetric_difference(set2)\n",
    "print(\"Симетрична різниця:\", symmetric_difference_set)"
   ],
   "metadata": {
    "id": "h0T-VuDnf3Ri",
    "ExecuteTime": {
     "end_time": "2025-02-25T20:48:41.986238Z",
     "start_time": "2025-02-25T20:48:41.980364Z"
    }
   },
   "outputs": [
    {
     "name": "stdout",
     "output_type": "stream",
     "text": [
      "Об'єднання: {1, 2, 3, 4, 5, 6, 7, 8}\n",
      "Різниця (set1 - set2): {1, 2, 3}\n",
      "Перетин: {4, 5}\n",
      "Симетрична різниця: {1, 2, 3, 6, 7, 8}\n"
     ]
    }
   ],
   "execution_count": 47
  },
  {
   "cell_type": "markdown",
   "source": [
    "# VII. Словники (Dictionary)."
   ],
   "metadata": {
    "id": "kWc8gkzTx7Ea"
   }
  },
  {
   "cell_type": "markdown",
   "source": [
    "20. Створіть пустий словник. До нього додайте чотири пари елементів такі, щоб їхні ключі були різних типів. Чи може список бути ключем? Чому?"
   ],
   "metadata": {
    "id": "i5FLwj-B2ybQ"
   }
  },
  {
   "cell_type": "code",
   "source": [
    "my_dict = {}\n",
    "my_dict[1] = \"Ціле число як ключ\"\n",
    "my_dict[3.14] = \"Число з рухомою комою як ключ\"\n",
    "my_dict[\"ключ\"] = \"Рядок як ключ\"\n",
    "print(my_dict)"
   ],
   "metadata": {
    "id": "hxgv3BzrgLAV",
    "ExecuteTime": {
     "end_time": "2025-02-25T20:48:45.715527Z",
     "start_time": "2025-02-25T20:48:45.711614Z"
    }
   },
   "outputs": [
    {
     "name": "stdout",
     "output_type": "stream",
     "text": [
      "{1: 'Ціле число як ключ', 3.14: 'Число з рухомою комою як ключ', 'ключ': 'Рядок як ключ'}\n"
     ]
    }
   ],
   "execution_count": 48
  },
  {
   "cell_type": "markdown",
   "source": "Ні, список не може бути ключем у словнику, оскільки ключі у словнику мають бути незмінними",
   "metadata": {
    "id": "zwa7UVN-gR3m"
   }
  },
  {
   "cell_type": "markdown",
   "source": [
    "21. Створіть словник, де значенням в одній з пар теж буде словник, який теж має вкладений словник. Виведіть на екран значення, що міститься в словнику, що знаходиться на найнижчому рівні ієрархії вкладеності (найбільш внутрішній)."
   ],
   "metadata": {
    "id": "WM_pMlJsgoNf"
   }
  },
  {
   "cell_type": "code",
   "source": [
    "nested_dict = {\n",
    "    \"first_level\": {\n",
    "        \"second_level\": {\n",
    "            \"third_level\": 100\n",
    "        }\n",
    "    }\n",
    "}\n",
    "deepest_value = nested_dict[\"first_level\"][\"second_level\"][\"third_level\"]\n",
    "print(deepest_value)"
   ],
   "metadata": {
    "id": "60dlP7IHhAy4",
    "ExecuteTime": {
     "end_time": "2025-02-25T20:48:49.161212Z",
     "start_time": "2025-02-25T20:48:49.155772Z"
    }
   },
   "outputs": [
    {
     "name": "stdout",
     "output_type": "stream",
     "text": [
      "100\n"
     ]
    }
   ],
   "execution_count": 49
  },
  {
   "cell_type": "markdown",
   "source": [
    "# Вітаю! Ви велика(ий) молодець, що впоралась(вся). Похваліть себе та побалуйте чимось приємним. Я Вами пишаюся."
   ],
   "metadata": {
    "id": "xOZP0hkx6cCr"
   }
  }
 ]
}
